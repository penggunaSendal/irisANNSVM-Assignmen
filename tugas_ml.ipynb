{
  "nbformat": 4,
  "nbformat_minor": 0,
  "metadata": {
    "colab": {
      "name": "tugas ml.ipynb",
      "provenance": [],
      "collapsed_sections": [],
      "include_colab_link": true
    },
    "kernelspec": {
      "name": "python3",
      "display_name": "Python 3"
    },
    "language_info": {
      "name": "python"
    }
  },
  "cells": [
    {
      "cell_type": "markdown",
      "metadata": {
        "id": "view-in-github",
        "colab_type": "text"
      },
      "source": [
        "<a href=\"https://colab.research.google.com/github/penggunaSendal/irisANNSVM-Assignmen/blob/main/tugas_ml.ipynb\" target=\"_parent\"><img src=\"https://colab.research.google.com/assets/colab-badge.svg\" alt=\"Open In Colab\"/></a>"
      ]
    },
    {
      "cell_type": "markdown",
      "source": [
        "#import the dataset"
      ],
      "metadata": {
        "id": "ppnYfPLCgPoA"
      }
    },
    {
      "cell_type": "code",
      "execution_count": null,
      "metadata": {
        "id": "R24Tl7fCxPGF"
      },
      "outputs": [],
      "source": [
        "import pandas as pd\n",
        "import tensorflow as tf\n",
        "import numpy as np\n",
        "import matplotlib.pyplot as plt\n",
        "from random import seed, random\n",
        "from sklearn import svm\n",
        "from sklearn.preprocessing import MinMaxScaler, OneHotEncoder, StandardScaler, label_binarize\n",
        "from sklearn.model_selection import train_test_split, KFold, StratifiedKFold, ParameterGrid, RandomizedSearchCV, learning_curve, ShuffleSplit\n",
        "from sklearn.datasets import load_digits\n",
        "from sklearn.neural_network import MLPClassifier\n",
        "from sklearn.metrics import brier_score_loss, r2_score, precision_score, recall_score, f1_score\n",
        "from sklearn.metrics import accuracy_score, classification_report,average_precision_score\n",
        "from sklearn.metrics import confusion_matrix, roc_auc_score, precision_recall_curve, roc_curve\n",
        "from sklearn.metrics import classification_report, silhouette_score\n",
        "from sklearn.svm import SVC, LinearSVC\n",
        "from sklearn.naive_bayes import GaussianNB"
      ]
    },
    {
      "cell_type": "markdown",
      "source": [
        "# **Memasukan dataset**"
      ],
      "metadata": {
        "id": "-00yyqp0kqXd"
      }
    },
    {
      "cell_type": "code",
      "source": [
        "#create dataframe\n",
        "df = pd.concat([pd.Series([4.1,4.2,4.3,4.4,4.5,4.6,4.7,4.7,4.8,4.9,5.1,5.1,5.3,5.3,5.5,5.5,5.7,5.8,5.9,6.1],name='x1'),\n",
        " pd.Series([1.3,1.3,1.3,1.4,1.6,1.4,1.2,1.5,1.4,1.5,1.8,2.4,1.9,2.3,2.1,1.8,2.3,2.2,2.1,2.5],name='x2'),\n",
        " pd.Series(['C1','C1','C1','C1','C1','C1','C1','C1','C1','C1','C2','C2','C2','C2','C2','C2','C2','C2','C2','C2'],name='y')],axis=1)\n",
        "df['ynew'] = df['y'].map({'C1':0,'C2':1})\n",
        "df"
      ],
      "metadata": {
        "colab": {
          "base_uri": "https://localhost:8080/",
          "height": 677
        },
        "id": "IU3xKgKsxlXr",
        "outputId": "1779f612-a3d6-4e4d-c3c7-2f6276372524"
      },
      "execution_count": null,
      "outputs": [
        {
          "output_type": "execute_result",
          "data": {
            "text/html": [
              "\n",
              "  <div id=\"df-39ad2a5f-657d-4dc7-9519-77f59a161204\">\n",
              "    <div class=\"colab-df-container\">\n",
              "      <div>\n",
              "<style scoped>\n",
              "    .dataframe tbody tr th:only-of-type {\n",
              "        vertical-align: middle;\n",
              "    }\n",
              "\n",
              "    .dataframe tbody tr th {\n",
              "        vertical-align: top;\n",
              "    }\n",
              "\n",
              "    .dataframe thead th {\n",
              "        text-align: right;\n",
              "    }\n",
              "</style>\n",
              "<table border=\"1\" class=\"dataframe\">\n",
              "  <thead>\n",
              "    <tr style=\"text-align: right;\">\n",
              "      <th></th>\n",
              "      <th>x1</th>\n",
              "      <th>x2</th>\n",
              "      <th>y</th>\n",
              "      <th>ynew</th>\n",
              "    </tr>\n",
              "  </thead>\n",
              "  <tbody>\n",
              "    <tr>\n",
              "      <th>0</th>\n",
              "      <td>4.1</td>\n",
              "      <td>1.3</td>\n",
              "      <td>C1</td>\n",
              "      <td>0</td>\n",
              "    </tr>\n",
              "    <tr>\n",
              "      <th>1</th>\n",
              "      <td>4.2</td>\n",
              "      <td>1.3</td>\n",
              "      <td>C1</td>\n",
              "      <td>0</td>\n",
              "    </tr>\n",
              "    <tr>\n",
              "      <th>2</th>\n",
              "      <td>4.3</td>\n",
              "      <td>1.3</td>\n",
              "      <td>C1</td>\n",
              "      <td>0</td>\n",
              "    </tr>\n",
              "    <tr>\n",
              "      <th>3</th>\n",
              "      <td>4.4</td>\n",
              "      <td>1.4</td>\n",
              "      <td>C1</td>\n",
              "      <td>0</td>\n",
              "    </tr>\n",
              "    <tr>\n",
              "      <th>4</th>\n",
              "      <td>4.5</td>\n",
              "      <td>1.6</td>\n",
              "      <td>C1</td>\n",
              "      <td>0</td>\n",
              "    </tr>\n",
              "    <tr>\n",
              "      <th>5</th>\n",
              "      <td>4.6</td>\n",
              "      <td>1.4</td>\n",
              "      <td>C1</td>\n",
              "      <td>0</td>\n",
              "    </tr>\n",
              "    <tr>\n",
              "      <th>6</th>\n",
              "      <td>4.7</td>\n",
              "      <td>1.2</td>\n",
              "      <td>C1</td>\n",
              "      <td>0</td>\n",
              "    </tr>\n",
              "    <tr>\n",
              "      <th>7</th>\n",
              "      <td>4.7</td>\n",
              "      <td>1.5</td>\n",
              "      <td>C1</td>\n",
              "      <td>0</td>\n",
              "    </tr>\n",
              "    <tr>\n",
              "      <th>8</th>\n",
              "      <td>4.8</td>\n",
              "      <td>1.4</td>\n",
              "      <td>C1</td>\n",
              "      <td>0</td>\n",
              "    </tr>\n",
              "    <tr>\n",
              "      <th>9</th>\n",
              "      <td>4.9</td>\n",
              "      <td>1.5</td>\n",
              "      <td>C1</td>\n",
              "      <td>0</td>\n",
              "    </tr>\n",
              "    <tr>\n",
              "      <th>10</th>\n",
              "      <td>5.1</td>\n",
              "      <td>1.8</td>\n",
              "      <td>C2</td>\n",
              "      <td>1</td>\n",
              "    </tr>\n",
              "    <tr>\n",
              "      <th>11</th>\n",
              "      <td>5.1</td>\n",
              "      <td>2.4</td>\n",
              "      <td>C2</td>\n",
              "      <td>1</td>\n",
              "    </tr>\n",
              "    <tr>\n",
              "      <th>12</th>\n",
              "      <td>5.3</td>\n",
              "      <td>1.9</td>\n",
              "      <td>C2</td>\n",
              "      <td>1</td>\n",
              "    </tr>\n",
              "    <tr>\n",
              "      <th>13</th>\n",
              "      <td>5.3</td>\n",
              "      <td>2.3</td>\n",
              "      <td>C2</td>\n",
              "      <td>1</td>\n",
              "    </tr>\n",
              "    <tr>\n",
              "      <th>14</th>\n",
              "      <td>5.5</td>\n",
              "      <td>2.1</td>\n",
              "      <td>C2</td>\n",
              "      <td>1</td>\n",
              "    </tr>\n",
              "    <tr>\n",
              "      <th>15</th>\n",
              "      <td>5.5</td>\n",
              "      <td>1.8</td>\n",
              "      <td>C2</td>\n",
              "      <td>1</td>\n",
              "    </tr>\n",
              "    <tr>\n",
              "      <th>16</th>\n",
              "      <td>5.7</td>\n",
              "      <td>2.3</td>\n",
              "      <td>C2</td>\n",
              "      <td>1</td>\n",
              "    </tr>\n",
              "    <tr>\n",
              "      <th>17</th>\n",
              "      <td>5.8</td>\n",
              "      <td>2.2</td>\n",
              "      <td>C2</td>\n",
              "      <td>1</td>\n",
              "    </tr>\n",
              "    <tr>\n",
              "      <th>18</th>\n",
              "      <td>5.9</td>\n",
              "      <td>2.1</td>\n",
              "      <td>C2</td>\n",
              "      <td>1</td>\n",
              "    </tr>\n",
              "    <tr>\n",
              "      <th>19</th>\n",
              "      <td>6.1</td>\n",
              "      <td>2.5</td>\n",
              "      <td>C2</td>\n",
              "      <td>1</td>\n",
              "    </tr>\n",
              "  </tbody>\n",
              "</table>\n",
              "</div>\n",
              "      <button class=\"colab-df-convert\" onclick=\"convertToInteractive('df-39ad2a5f-657d-4dc7-9519-77f59a161204')\"\n",
              "              title=\"Convert this dataframe to an interactive table.\"\n",
              "              style=\"display:none;\">\n",
              "        \n",
              "  <svg xmlns=\"http://www.w3.org/2000/svg\" height=\"24px\"viewBox=\"0 0 24 24\"\n",
              "       width=\"24px\">\n",
              "    <path d=\"M0 0h24v24H0V0z\" fill=\"none\"/>\n",
              "    <path d=\"M18.56 5.44l.94 2.06.94-2.06 2.06-.94-2.06-.94-.94-2.06-.94 2.06-2.06.94zm-11 1L8.5 8.5l.94-2.06 2.06-.94-2.06-.94L8.5 2.5l-.94 2.06-2.06.94zm10 10l.94 2.06.94-2.06 2.06-.94-2.06-.94-.94-2.06-.94 2.06-2.06.94z\"/><path d=\"M17.41 7.96l-1.37-1.37c-.4-.4-.92-.59-1.43-.59-.52 0-1.04.2-1.43.59L10.3 9.45l-7.72 7.72c-.78.78-.78 2.05 0 2.83L4 21.41c.39.39.9.59 1.41.59.51 0 1.02-.2 1.41-.59l7.78-7.78 2.81-2.81c.8-.78.8-2.07 0-2.86zM5.41 20L4 18.59l7.72-7.72 1.47 1.35L5.41 20z\"/>\n",
              "  </svg>\n",
              "      </button>\n",
              "      \n",
              "  <style>\n",
              "    .colab-df-container {\n",
              "      display:flex;\n",
              "      flex-wrap:wrap;\n",
              "      gap: 12px;\n",
              "    }\n",
              "\n",
              "    .colab-df-convert {\n",
              "      background-color: #E8F0FE;\n",
              "      border: none;\n",
              "      border-radius: 50%;\n",
              "      cursor: pointer;\n",
              "      display: none;\n",
              "      fill: #1967D2;\n",
              "      height: 32px;\n",
              "      padding: 0 0 0 0;\n",
              "      width: 32px;\n",
              "    }\n",
              "\n",
              "    .colab-df-convert:hover {\n",
              "      background-color: #E2EBFA;\n",
              "      box-shadow: 0px 1px 2px rgba(60, 64, 67, 0.3), 0px 1px 3px 1px rgba(60, 64, 67, 0.15);\n",
              "      fill: #174EA6;\n",
              "    }\n",
              "\n",
              "    [theme=dark] .colab-df-convert {\n",
              "      background-color: #3B4455;\n",
              "      fill: #D2E3FC;\n",
              "    }\n",
              "\n",
              "    [theme=dark] .colab-df-convert:hover {\n",
              "      background-color: #434B5C;\n",
              "      box-shadow: 0px 1px 3px 1px rgba(0, 0, 0, 0.15);\n",
              "      filter: drop-shadow(0px 1px 2px rgba(0, 0, 0, 0.3));\n",
              "      fill: #FFFFFF;\n",
              "    }\n",
              "  </style>\n",
              "\n",
              "      <script>\n",
              "        const buttonEl =\n",
              "          document.querySelector('#df-39ad2a5f-657d-4dc7-9519-77f59a161204 button.colab-df-convert');\n",
              "        buttonEl.style.display =\n",
              "          google.colab.kernel.accessAllowed ? 'block' : 'none';\n",
              "\n",
              "        async function convertToInteractive(key) {\n",
              "          const element = document.querySelector('#df-39ad2a5f-657d-4dc7-9519-77f59a161204');\n",
              "          const dataTable =\n",
              "            await google.colab.kernel.invokeFunction('convertToInteractive',\n",
              "                                                     [key], {});\n",
              "          if (!dataTable) return;\n",
              "\n",
              "          const docLinkHtml = 'Like what you see? Visit the ' +\n",
              "            '<a target=\"_blank\" href=https://colab.research.google.com/notebooks/data_table.ipynb>data table notebook</a>'\n",
              "            + ' to learn more about interactive tables.';\n",
              "          element.innerHTML = '';\n",
              "          dataTable['output_type'] = 'display_data';\n",
              "          await google.colab.output.renderOutput(dataTable, element);\n",
              "          const docLink = document.createElement('div');\n",
              "          docLink.innerHTML = docLinkHtml;\n",
              "          element.appendChild(docLink);\n",
              "        }\n",
              "      </script>\n",
              "    </div>\n",
              "  </div>\n",
              "  "
            ],
            "text/plain": [
              "     x1   x2   y  ynew\n",
              "0   4.1  1.3  C1     0\n",
              "1   4.2  1.3  C1     0\n",
              "2   4.3  1.3  C1     0\n",
              "3   4.4  1.4  C1     0\n",
              "4   4.5  1.6  C1     0\n",
              "5   4.6  1.4  C1     0\n",
              "6   4.7  1.2  C1     0\n",
              "7   4.7  1.5  C1     0\n",
              "8   4.8  1.4  C1     0\n",
              "9   4.9  1.5  C1     0\n",
              "10  5.1  1.8  C2     1\n",
              "11  5.1  2.4  C2     1\n",
              "12  5.3  1.9  C2     1\n",
              "13  5.3  2.3  C2     1\n",
              "14  5.5  2.1  C2     1\n",
              "15  5.5  1.8  C2     1\n",
              "16  5.7  2.3  C2     1\n",
              "17  5.8  2.2  C2     1\n",
              "18  5.9  2.1  C2     1\n",
              "19  6.1  2.5  C2     1"
            ]
          },
          "metadata": {},
          "execution_count": 39
        }
      ]
    },
    {
      "cell_type": "markdown",
      "source": [
        "# **Memisahkan antara train dan testing**"
      ],
      "metadata": {
        "id": "lGrWF3vflNxb"
      }
    },
    {
      "cell_type": "code",
      "source": [
        "y = df['ynew']\n",
        "X = df.drop(['y','ynew'],axis=1)\n",
        "X = X.values\n",
        "y = y.values\n",
        "X_train, X_test, y_train, y_test = train_test_split(X, y, test_size=0.5, random_state=2)\n",
        "sc = StandardScaler()\n",
        "X_train = sc.fit_transform(X_train)\n",
        "X_test = sc.fit_transform(X_test)"
      ],
      "metadata": {
        "id": "JJq6T2C4yKc2"
      },
      "execution_count": null,
      "outputs": []
    },
    {
      "cell_type": "markdown",
      "source": [
        "# 1.A  Design a 2-layer neural network with a bias to be trained to classify data points from C1 and C2 in the table above. Label the nodes in the input and output layers."
      ],
      "metadata": {
        "id": "Z2nq5DRlmWEC"
      }
    },
    {
      "cell_type": "code",
      "source": [
        "initializer = tf.initializers.RandomUniform(minval=-1, maxval=1, seed=None)\n",
        "model = tf.keras.models.Sequential()\n",
        "model.add(tf.keras.layers.Dense(units=2, input_dim=2, kernel_initializer=initializer, activation='sigmoid')) #Pembuatan 2 node (input dengan 1 hidden layer)\n",
        "model.add(tf.keras.layers.Dense(units=1,activation='sigmoid',)) #output dari hidden layer"
      ],
      "metadata": {
        "id": "fmlHUzySmi6s"
      },
      "execution_count": null,
      "outputs": []
    },
    {
      "cell_type": "markdown",
      "source": [
        "# 1.B Use backpropagation algorithm to train the networks with learning rate = 0.1 and activation function of sigmoid. Initialize all weights randomly in the range -1 < w < +1. Show the weight values after one iteration of the backpropagation. "
      ],
      "metadata": {
        "id": "2KE-Du8im98p"
      }
    },
    {
      "cell_type": "code",
      "source": [
        "optimizer = tf.keras.optimizers.Adam(lr=0.1)\n",
        "model.compile(optimizer=optimizer,loss='binary_crossentropy', metrics=['accuracy'])\n",
        "model.fit(X_train,y_train, epochs=1, verbose=True)\n",
        "print('\\n')\n",
        "print(\"Learning rate\", model.optimizer.learning_rate.numpy())\n",
        "print('Weight yang didapat pada iterasi pertama:')\n",
        "print(model.weights)\n"
      ],
      "metadata": {
        "colab": {
          "base_uri": "https://localhost:8080/"
        },
        "id": "pc4KnxrQxsF2",
        "outputId": "0e42b6a3-72d5-4e06-aa65-bfc5c98ac9f4"
      },
      "execution_count": null,
      "outputs": [
        {
          "output_type": "stream",
          "name": "stderr",
          "text": [
            "/usr/local/lib/python3.7/dist-packages/keras/optimizer_v2/adam.py:105: UserWarning: The `lr` argument is deprecated, use `learning_rate` instead.\n",
            "  super(Adam, self).__init__(name, **kwargs)\n"
          ]
        },
        {
          "output_type": "stream",
          "name": "stdout",
          "text": [
            "1/1 [==============================] - 1s 1s/step - loss: 0.7352 - accuracy: 0.4000\n",
            "\n",
            "\n",
            "Learning rate 0.1\n",
            "Weight yang didapat pada iterasi pertama:\n",
            "[<tf.Variable 'dense_8/kernel:0' shape=(2, 2) dtype=float32, numpy=\n",
            "array([[-0.6967505 ,  0.30479312],\n",
            "       [ 0.49557742,  0.47834787]], dtype=float32)>, <tf.Variable 'dense_8/bias:0' shape=(2,) dtype=float32, numpy=array([-0.19992301, -0.199949  ], dtype=float32)>, <tf.Variable 'dense_9/kernel:0' shape=(2, 1) dtype=float32, numpy=\n",
            "array([[-0.09900858],\n",
            "       [-0.17107883]], dtype=float32)>, <tf.Variable 'dense_9/bias:0' shape=(1,) dtype=float32, numpy=array([0.19999586], dtype=float32)>]\n"
          ]
        }
      ]
    },
    {
      "cell_type": "markdown",
      "source": [
        "# 1.C Repeat (b) for 10 epoch, then plot a learning curve (the training error vs epoch).\n"
      ],
      "metadata": {
        "id": "eSDtrd8Jnr-j"
      }
    },
    {
      "cell_type": "code",
      "source": [
        "Model = tf.keras.Sequential\n",
        "model.add(tf.keras.layers.Dense(units=2, input_dim=2, kernel_initializer=initializer, activation='sigmoid')) #Pembuatan 2 node (input dengan 1 hidden layer)\n",
        "model.add(tf.keras.layers.Dense(units=1,activation='sigmoid',))  #output dari hidden layer\n",
        "optimizer = tf.keras.optimizers.Adam(lr=0.1)\n",
        "model.compile(optimizer=optimizer,loss='binary_crossentropy', metrics=['accuracy'])\n",
        "history = model.fit(X, y,validation_split = 0.1, epochs=10, batch_size=4)"
      ],
      "metadata": {
        "colab": {
          "base_uri": "https://localhost:8080/"
        },
        "id": "W8oHSKomny3n",
        "outputId": "a44980d5-7b8a-4d34-bdec-86a136d2c0e7"
      },
      "execution_count": null,
      "outputs": [
        {
          "output_type": "stream",
          "name": "stderr",
          "text": [
            "/usr/local/lib/python3.7/dist-packages/keras/optimizer_v2/adam.py:105: UserWarning: The `lr` argument is deprecated, use `learning_rate` instead.\n",
            "  super(Adam, self).__init__(name, **kwargs)\n"
          ]
        },
        {
          "output_type": "stream",
          "name": "stdout",
          "text": [
            "Epoch 1/10\n",
            "5/5 [==============================] - 1s 42ms/step - loss: 0.7371 - accuracy: 0.4444 - val_loss: 0.6780 - val_accuracy: 1.0000\n",
            "Epoch 2/10\n",
            "5/5 [==============================] - 0s 7ms/step - loss: 0.6873 - accuracy: 0.5556 - val_loss: 0.8163 - val_accuracy: 0.0000e+00\n",
            "Epoch 3/10\n",
            "5/5 [==============================] - 0s 8ms/step - loss: 0.6870 - accuracy: 0.5556 - val_loss: 0.8968 - val_accuracy: 0.0000e+00\n",
            "Epoch 4/10\n",
            "5/5 [==============================] - 0s 8ms/step - loss: 0.7091 - accuracy: 0.5556 - val_loss: 1.0133 - val_accuracy: 0.0000e+00\n",
            "Epoch 5/10\n",
            "5/5 [==============================] - 0s 7ms/step - loss: 0.7205 - accuracy: 0.5556 - val_loss: 0.8333 - val_accuracy: 0.0000e+00\n",
            "Epoch 6/10\n",
            "5/5 [==============================] - 0s 8ms/step - loss: 0.6885 - accuracy: 0.5556 - val_loss: 0.8274 - val_accuracy: 0.0000e+00\n",
            "Epoch 7/10\n",
            "5/5 [==============================] - 0s 8ms/step - loss: 0.6889 - accuracy: 0.5556 - val_loss: 0.7738 - val_accuracy: 0.0000e+00\n",
            "Epoch 8/10\n",
            "5/5 [==============================] - 0s 8ms/step - loss: 0.6896 - accuracy: 0.5556 - val_loss: 0.7655 - val_accuracy: 0.0000e+00\n",
            "Epoch 9/10\n",
            "5/5 [==============================] - 0s 8ms/step - loss: 0.6889 - accuracy: 0.5556 - val_loss: 0.7994 - val_accuracy: 0.0000e+00\n",
            "Epoch 10/10\n",
            "5/5 [==============================] - 0s 7ms/step - loss: 0.6844 - accuracy: 0.5556 - val_loss: 0.8445 - val_accuracy: 0.0000e+00\n"
          ]
        }
      ]
    },
    {
      "cell_type": "code",
      "source": [
        "#hasil\n",
        "plt.plot([1-i for i in history.history['accuracy']])\n",
        "plt.plot([1-i for i in history.history['val_accuracy']])\n",
        "plt.title('hasil training error vs eppoch')\n",
        "plt.ylabel('Error')\n",
        "plt.xlabel('epoch')\n",
        "plt.legend(['train', 'val'], loc='upper left')\n",
        "plt.show()"
      ],
      "metadata": {
        "colab": {
          "base_uri": "https://localhost:8080/",
          "height": 295
        },
        "id": "S1CzTMcgoZLH",
        "outputId": "39b5668f-fe17-4e8b-fb87-01d5edd8dd7e"
      },
      "execution_count": null,
      "outputs": [
        {
          "output_type": "display_data",
          "data": {
            "image/png": "[encoded data removed]",
            "text/plain": [
              "<Figure size 432x288 with 1 Axes>"
            ]
          },
          "metadata": {
            "needs_background": "light"
          }
        }
      ]
    },
    {
      "cell_type": "markdown",
      "source": [
        "# 1.D Plot the region boundary of the categories based on the model;"
      ],
      "metadata": {
        "id": "iS9PkcdCoyLM"
      }
    },
    {
      "cell_type": "code",
      "source": [
        "h = .02 # step size in the mesh\n",
        "# create a mesh to plot in\n",
        "x_min, x_max = X_test[:, 0].min() - 1, X_test[:, 0].max() + 1\n",
        "y_min, y_max = X_test[:, 1].min() - 1, X_test[:, 1].max() + 1\n",
        "xx, yy = np.meshgrid(np.arange(x_min, x_max, h),\n",
        " np.arange(y_min, y_max, h))\n",
        "# Plot the decision boundary. For that, we will assign a color to each\n",
        "# point in the mesh [x_min, m_max]x[y_min, y_max].\n",
        "Z = model.predict(np.c_[xx.ravel(), yy.ravel()])\n",
        "# Put the result into a color plot\n",
        "Z = Z.reshape(xx.shape)\n",
        "plt.contour(xx, yy, Z, cmap=plt.cm.Paired)"
      ],
      "metadata": {
        "colab": {
          "base_uri": "https://localhost:8080/",
          "height": 282
        },
        "id": "Shr127jvo3rL",
        "outputId": "32527013-22c4-43b9-d773-c414cb54fa9a"
      },
      "execution_count": null,
      "outputs": [
        {
          "output_type": "execute_result",
          "data": {
            "text/plain": [
              "<matplotlib.contour.QuadContourSet at 0x7f39dca5ead0>"
            ]
          },
          "metadata": {},
          "execution_count": 47
        },
        {
          "output_type": "display_data",
          "data": {
            "image/png": "[encoded data removed]",
            "text/plain": [
              "<Figure size 432x288 with 1 Axes>"
            ]
          },
          "metadata": {
            "needs_background": "light"
          }
        }
      ]
    },
    {
      "cell_type": "markdown",
      "source": [
        "# 1. E Evaluate performance of the model using confusion matrix: accuracy, recall, F1-score. Write down your conclusions.\n"
      ],
      "metadata": {
        "id": "vourxjj0LbuJ"
      }
    },
    {
      "cell_type": "code",
      "source": [
        "# classification report for precision, recall f1-score and accuracy for train\n",
        "matrix = classification_report(y_train,np.where(model.predict(X_train)>0.5,1,0))\n",
        "print('Classification report for train : ')\n",
        "print('')\n",
        "print(matrix)\n",
        "\n",
        "# classification report for precision, recall f1-score and accuracy\n",
        "matrix = classification_report(y_test,np.where(model.predict(X_test)>0.5,1,0))\n",
        "print('Classification report for testing :')\n",
        "print('')\n",
        "print(matrix)\n"
      ],
      "metadata": {
        "colab": {
          "base_uri": "https://localhost:8080/"
        },
        "id": "gZVJ1WYtLjTu",
        "outputId": "ba1bc235-6b16-4141-cff4-32cd02b76e95"
      },
      "execution_count": null,
      "outputs": [
        {
          "output_type": "stream",
          "name": "stdout",
          "text": [
            "Classification report for train : \n",
            "\n",
            "              precision    recall  f1-score   support\n",
            "\n",
            "           0       0.40      1.00      0.57         4\n",
            "           1       0.00      0.00      0.00         6\n",
            "\n",
            "    accuracy                           0.40        10\n",
            "   macro avg       0.20      0.50      0.29        10\n",
            "weighted avg       0.16      0.40      0.23        10\n",
            "\n",
            "Classification report for testing :\n",
            "\n",
            "              precision    recall  f1-score   support\n",
            "\n",
            "           0       0.60      1.00      0.75         6\n",
            "           1       0.00      0.00      0.00         4\n",
            "\n",
            "    accuracy                           0.60        10\n",
            "   macro avg       0.30      0.50      0.37        10\n",
            "weighted avg       0.36      0.60      0.45        10\n",
            "\n"
          ]
        },
        {
          "output_type": "stream",
          "name": "stderr",
          "text": [
            "/usr/local/lib/python3.7/dist-packages/sklearn/metrics/_classification.py:1318: UndefinedMetricWarning: Precision and F-score are ill-defined and being set to 0.0 in labels with no predicted samples. Use `zero_division` parameter to control this behavior.\n",
            "  _warn_prf(average, modifier, msg_start, len(result))\n",
            "/usr/local/lib/python3.7/dist-packages/sklearn/metrics/_classification.py:1318: UndefinedMetricWarning: Precision and F-score are ill-defined and being set to 0.0 in labels with no predicted samples. Use `zero_division` parameter to control this behavior.\n",
            "  _warn_prf(average, modifier, msg_start, len(result))\n",
            "/usr/local/lib/python3.7/dist-packages/sklearn/metrics/_classification.py:1318: UndefinedMetricWarning: Precision and F-score are ill-defined and being set to 0.0 in labels with no predicted samples. Use `zero_division` parameter to control this behavior.\n",
            "  _warn_prf(average, modifier, msg_start, len(result))\n",
            "/usr/local/lib/python3.7/dist-packages/sklearn/metrics/_classification.py:1318: UndefinedMetricWarning: Precision and F-score are ill-defined and being set to 0.0 in labels with no predicted samples. Use `zero_division` parameter to control this behavior.\n",
            "  _warn_prf(average, modifier, msg_start, len(result))\n",
            "/usr/local/lib/python3.7/dist-packages/sklearn/metrics/_classification.py:1318: UndefinedMetricWarning: Precision and F-score are ill-defined and being set to 0.0 in labels with no predicted samples. Use `zero_division` parameter to control this behavior.\n",
            "  _warn_prf(average, modifier, msg_start, len(result))\n",
            "/usr/local/lib/python3.7/dist-packages/sklearn/metrics/_classification.py:1318: UndefinedMetricWarning: Precision and F-score are ill-defined and being set to 0.0 in labels with no predicted samples. Use `zero_division` parameter to control this behavior.\n",
            "  _warn_prf(average, modifier, msg_start, len(result))\n"
          ]
        }
      ]
    },
    {
      "cell_type": "markdown",
      "source": [
        "# **kesimpulan: dikarenakan data yang sedikit, maka model memiliki tingkat akurat yang cukup tinggi**"
      ],
      "metadata": {
        "id": "k52vA8kwLyRp"
      }
    },
    {
      "cell_type": "markdown",
      "source": [
        "# 2. A . Construct a classifier model based on linear-SVM given the dataset above. Train the model for 10 times, then plot a learning curve. Note: You can apply Python machine learning package such as Scikit-learn or TensorFlow;"
      ],
      "metadata": {
        "id": "SbZyGFCpL_Gd"
      }
    },
    {
      "cell_type": "code",
      "source": [
        "def plot_learning_curve(estimator, title, X, y, axes=None, ylim=None, cv=None, n_jobs=None, train_sizes=np.linspace(0.1, 1.0, 5),):\n",
        "  if axes is None:\n",
        "    _, axes = plt.subplots(1, 3, figsize=(20, 5))\n",
        "    axes[0].set_title(title)\n",
        "  if ylim is not None:\n",
        "    axes[0].set_ylim(*ylim)\n",
        "    axes[0].set_xlabel(\"Training examples\")\n",
        "    axes[0].set_ylabel(\"Score\")\n",
        "  train_sizes, train_scores, test_scores, fit_times, _ = learning_curve(estimator, X, y, cv=cv, n_jobs=n_jobs, train_sizes=train_sizes, return_times=True,)\n",
        "  train_scores_mean = np.mean(train_scores, axis=1)\n",
        "  train_scores_std = np.std(train_scores, axis=1)\n",
        "  test_scores_mean = np.mean(test_scores, axis=1)\n",
        "  test_scores_std = np.std(test_scores, axis=1)\n",
        "  fit_times_mean = np.mean(fit_times, axis=1)\n",
        "  fit_times_std = np.std(fit_times, axis=1)\n",
        "\n",
        "  # Plot learning curve\n",
        "  axes[0].grid()\n",
        "  axes[0].fill_between(train_sizes, train_scores_mean - train_scores_std, train_scores_mean + train_scores_std, alpha=0.1, color=\"r\",)\n",
        "  axes[0].fill_between(train_sizes, test_scores_mean - test_scores_std, test_scores_mean + test_scores_std, alpha=0.1, color=\"g\",)\n",
        "  axes[0].plot(train_sizes, train_scores_mean, \"o-\", color=\"r\", label=\"Training score\")\n",
        "  axes[0].plot(train_sizes, test_scores_mean, \"o-\", color=\"g\", label=\"Cross-validation score\")\n",
        "  axes[0].legend(loc=\"best\")\n",
        "  return plt\n",
        "\n",
        "fig, axes = plt.subplots(2, 2, figsize=(20, 15))\n",
        "title = r\"Learning Curves (SVM, RBF kernel, $\\gamma=0.001$)\"\n",
        "  \n",
        "# SVC is more expensive so we do a lower number of CV iterations:\n",
        "cv = ShuffleSplit(n_splits=5, test_size=0.2, random_state=0)\n",
        "estimator = SVC(gamma=0.001)\n",
        "plot_learning_curve(estimator, title, X, y, axes=axes[:, 1], ylim=(0.7, 1.01), cv=cv, n_jobs=4)\n",
        "plt.show()"
      ],
      "metadata": {
        "colab": {
          "base_uri": "https://localhost:8080/",
          "height": 867
        },
        "id": "m0oeJjJ5NDw1",
        "outputId": "7f3c0e08-e72c-4c62-f593-588e4baecbf8"
      },
      "execution_count": null,
      "outputs": [
        {
          "output_type": "display_data",
          "data": {
            "image/png": "[encoded data removed]",
            "text/plain": [
              "<Figure size 1440x1080 with 4 Axes>"
            ]
          },
          "metadata": {
            "needs_background": "light"
          }
        }
      ]
    },
    {
      "cell_type": "markdown",
      "source": [
        "# 2. B Plot the region boundary of the categories based on the model;"
      ],
      "metadata": {
        "id": "LB725i2cO_Kw"
      }
    },
    {
      "cell_type": "code",
      "source": [
        "C = 1.0 # SVM regularization parameter\n",
        "clf = svm.SVC(kernel = 'linear', gamma=0.7, C=C )\n",
        "clf.fit(X, y)\n"
      ],
      "metadata": {
        "colab": {
          "base_uri": "https://localhost:8080/"
        },
        "id": "3Y_v7DiVPld3",
        "outputId": "d269218b-27a5-4f54-ed3f-96f496703605"
      },
      "execution_count": null,
      "outputs": [
        {
          "output_type": "execute_result",
          "data": {
            "text/plain": [
              "SVC(gamma=0.7, kernel='linear')"
            ]
          },
          "metadata": {},
          "execution_count": 31
        }
      ]
    },
    {
      "cell_type": "code",
      "source": [
        " w = clf.coef_[0]\n",
        "a = -w[0] / w[1]\n",
        "xx = np.linspace(-5, 5)\n",
        "yy = a * xx - (clf.intercept_[0]) / w[1]\n",
        "plt.plot(xx, yy, 'k-')"
      ],
      "metadata": {
        "colab": {
          "base_uri": "https://localhost:8080/",
          "height": 282
        },
        "id": "WD4GhfxlQLYX",
        "outputId": "61db6d0f-200b-457c-a934-e269821952d9"
      },
      "execution_count": null,
      "outputs": [
        {
          "output_type": "execute_result",
          "data": {
            "text/plain": [
              "[<matplotlib.lines.Line2D at 0x7f39dd9cb810>]"
            ]
          },
          "metadata": {},
          "execution_count": 36
        },
        {
          "output_type": "display_data",
          "data": {
            "image/png": "[encoded data removed]",
            "text/plain": [
              "<Figure size 432x288 with 1 Axes>"
            ]
          },
          "metadata": {
            "needs_background": "light"
          }
        }
      ]
    },
    {
      "cell_type": "code",
      "source": [
        "h = .02 # step size in the mesh\n",
        "# create a mesh to plot in\n",
        "x_min, x_max = X_test[:, 0].min() - 1, X_test[:, 0].max() + 1\n",
        "y_min, y_max = X_test[:, 1].min() - 1, X_test[:, 1].max() + 1\n",
        "xx, yy = np.meshgrid(np.arange(x_min, x_max, h),\n",
        " np.arange(y_min, y_max, h))\n",
        "# Plot the decision boundary. For that, we will assign a color to each\n",
        "# point in the mesh [x_min, m_max]x[y_min, y_max].\n",
        "Z = clf.predict(np.c_[xx.ravel(), yy.ravel()])\n",
        "# Put the result into a color plot\n",
        "Z = Z.reshape(xx.shape)\n",
        "plt.contour(xx, yy, Z, cmap=plt.cm.Paired)\n"
      ],
      "metadata": {
        "colab": {
          "base_uri": "https://localhost:8080/",
          "height": 317
        },
        "id": "Zdh3itpNQPcX",
        "outputId": "6fc97b5b-90c3-44cb-d35a-eb8c42ab44fe"
      },
      "execution_count": null,
      "outputs": [
        {
          "output_type": "stream",
          "name": "stderr",
          "text": [
            "/usr/local/lib/python3.7/dist-packages/ipykernel_launcher.py:12: UserWarning: No contour levels were found within the data range.\n",
            "  if sys.path[0] == '':\n"
          ]
        },
        {
          "output_type": "execute_result",
          "data": {
            "text/plain": [
              "<matplotlib.contour.QuadContourSet at 0x7f39dd9370d0>"
            ]
          },
          "metadata": {},
          "execution_count": 37
        },
        {
          "output_type": "display_data",
          "data": {
            "image/png": "[encoded data removed]",
            "text/plain": [
              "<Figure size 432x288 with 1 Axes>"
            ]
          },
          "metadata": {
            "needs_background": "light"
          }
        }
      ]
    },
    {
      "cell_type": "markdown",
      "source": [
        "# 2. C . Evaluate performance of the model using confusion matrix: accuracy recall, F1-score"
      ],
      "metadata": {
        "id": "Lq_jsSD_PdOL"
      }
    },
    {
      "cell_type": "code",
      "source": [
        "# classification report for precision, recall f1-score and accuracy\n",
        "matrix = classification_report(y_train,clf.predict(X_train))\n",
        "print('Classification report :')\n",
        "print('')\n",
        "print(matrix)\n",
        "\n",
        "# classification report for precision, recall f1-score and accuracy\n",
        "matrix = classification_report(y_test,clf.predict(X_test))\n",
        "print('Classification report :')\n",
        "print('')\n",
        "print(matrix)"
      ],
      "metadata": {
        "colab": {
          "base_uri": "https://localhost:8080/"
        },
        "id": "xET7DIuJQV7u",
        "outputId": "de5361af-09c9-499c-a51b-de415387a37b"
      },
      "execution_count": null,
      "outputs": [
        {
          "output_type": "stream",
          "name": "stdout",
          "text": [
            "Classification report :\n",
            "\n",
            "              precision    recall  f1-score   support\n",
            "\n",
            "           0       0.40      1.00      0.57         4\n",
            "           1       0.00      0.00      0.00         6\n",
            "\n",
            "    accuracy                           0.40        10\n",
            "   macro avg       0.20      0.50      0.29        10\n",
            "weighted avg       0.16      0.40      0.23        10\n",
            "\n",
            "Classification report :\n",
            "\n",
            "              precision    recall  f1-score   support\n",
            "\n",
            "           0       0.60      1.00      0.75         6\n",
            "           1       0.00      0.00      0.00         4\n",
            "\n",
            "    accuracy                           0.60        10\n",
            "   macro avg       0.30      0.50      0.37        10\n",
            "weighted avg       0.36      0.60      0.45        10\n",
            "\n"
          ]
        },
        {
          "output_type": "stream",
          "name": "stderr",
          "text": [
            "/usr/local/lib/python3.7/dist-packages/sklearn/metrics/_classification.py:1318: UndefinedMetricWarning: Precision and F-score are ill-defined and being set to 0.0 in labels with no predicted samples. Use `zero_division` parameter to control this behavior.\n",
            "  _warn_prf(average, modifier, msg_start, len(result))\n",
            "/usr/local/lib/python3.7/dist-packages/sklearn/metrics/_classification.py:1318: UndefinedMetricWarning: Precision and F-score are ill-defined and being set to 0.0 in labels with no predicted samples. Use `zero_division` parameter to control this behavior.\n",
            "  _warn_prf(average, modifier, msg_start, len(result))\n",
            "/usr/local/lib/python3.7/dist-packages/sklearn/metrics/_classification.py:1318: UndefinedMetricWarning: Precision and F-score are ill-defined and being set to 0.0 in labels with no predicted samples. Use `zero_division` parameter to control this behavior.\n",
            "  _warn_prf(average, modifier, msg_start, len(result))\n",
            "/usr/local/lib/python3.7/dist-packages/sklearn/metrics/_classification.py:1318: UndefinedMetricWarning: Precision and F-score are ill-defined and being set to 0.0 in labels with no predicted samples. Use `zero_division` parameter to control this behavior.\n",
            "  _warn_prf(average, modifier, msg_start, len(result))\n",
            "/usr/local/lib/python3.7/dist-packages/sklearn/metrics/_classification.py:1318: UndefinedMetricWarning: Precision and F-score are ill-defined and being set to 0.0 in labels with no predicted samples. Use `zero_division` parameter to control this behavior.\n",
            "  _warn_prf(average, modifier, msg_start, len(result))\n",
            "/usr/local/lib/python3.7/dist-packages/sklearn/metrics/_classification.py:1318: UndefinedMetricWarning: Precision and F-score are ill-defined and being set to 0.0 in labels with no predicted samples. Use `zero_division` parameter to control this behavior.\n",
            "  _warn_prf(average, modifier, msg_start, len(result))\n"
          ]
        }
      ]
    },
    {
      "cell_type": "markdown",
      "source": [
        "# 2. D Repeat, but by using soft-margin linear SVM with C = 50. Compare the result with the previous results. Write down your conclusions."
      ],
      "metadata": {
        "id": "73suZHu5QfSM"
      }
    },
    {
      "cell_type": "code",
      "source": [
        "C = 50 # SVM regularization parameter\n",
        "clf = svm.SVC(kernel = 'linear', gamma=0.7, C=C )\n",
        "clf.fit(X, y)\n",
        "\n",
        "# classification report for precision, recall f1-score and accuracy\n",
        "matrix = classification_report(y_train,clf.predict(X_train))\n",
        "print('Classification report :')\n",
        "print('')\n",
        "print(matrix)\n",
        "\n",
        "# classification report for precision, recall f1-score and accuracy\n",
        "matrix = classification_report(y_test,clf.predict(X_test))\n",
        "print('Classification report :')\n",
        "print('')\n",
        "print(matrix)"
      ],
      "metadata": {
        "colab": {
          "base_uri": "https://localhost:8080/"
        },
        "id": "FBnzqWrPQk_i",
        "outputId": "431ae3e0-aeb7-4952-c2dd-e156f36987a4"
      },
      "execution_count": null,
      "outputs": [
        {
          "output_type": "stream",
          "name": "stdout",
          "text": [
            "Classification report :\n",
            "\n",
            "              precision    recall  f1-score   support\n",
            "\n",
            "           0       0.40      1.00      0.57         4\n",
            "           1       0.00      0.00      0.00         6\n",
            "\n",
            "    accuracy                           0.40        10\n",
            "   macro avg       0.20      0.50      0.29        10\n",
            "weighted avg       0.16      0.40      0.23        10\n",
            "\n",
            "Classification report :\n",
            "\n",
            "              precision    recall  f1-score   support\n",
            "\n",
            "           0       0.60      1.00      0.75         6\n",
            "           1       0.00      0.00      0.00         4\n",
            "\n",
            "    accuracy                           0.60        10\n",
            "   macro avg       0.30      0.50      0.37        10\n",
            "weighted avg       0.36      0.60      0.45        10\n",
            "\n"
          ]
        },
        {
          "output_type": "stream",
          "name": "stderr",
          "text": [
            "/usr/local/lib/python3.7/dist-packages/sklearn/metrics/_classification.py:1318: UndefinedMetricWarning: Precision and F-score are ill-defined and being set to 0.0 in labels with no predicted samples. Use `zero_division` parameter to control this behavior.\n",
            "  _warn_prf(average, modifier, msg_start, len(result))\n",
            "/usr/local/lib/python3.7/dist-packages/sklearn/metrics/_classification.py:1318: UndefinedMetricWarning: Precision and F-score are ill-defined and being set to 0.0 in labels with no predicted samples. Use `zero_division` parameter to control this behavior.\n",
            "  _warn_prf(average, modifier, msg_start, len(result))\n",
            "/usr/local/lib/python3.7/dist-packages/sklearn/metrics/_classification.py:1318: UndefinedMetricWarning: Precision and F-score are ill-defined and being set to 0.0 in labels with no predicted samples. Use `zero_division` parameter to control this behavior.\n",
            "  _warn_prf(average, modifier, msg_start, len(result))\n",
            "/usr/local/lib/python3.7/dist-packages/sklearn/metrics/_classification.py:1318: UndefinedMetricWarning: Precision and F-score are ill-defined and being set to 0.0 in labels with no predicted samples. Use `zero_division` parameter to control this behavior.\n",
            "  _warn_prf(average, modifier, msg_start, len(result))\n",
            "/usr/local/lib/python3.7/dist-packages/sklearn/metrics/_classification.py:1318: UndefinedMetricWarning: Precision and F-score are ill-defined and being set to 0.0 in labels with no predicted samples. Use `zero_division` parameter to control this behavior.\n",
            "  _warn_prf(average, modifier, msg_start, len(result))\n",
            "/usr/local/lib/python3.7/dist-packages/sklearn/metrics/_classification.py:1318: UndefinedMetricWarning: Precision and F-score are ill-defined and being set to 0.0 in labels with no predicted samples. Use `zero_division` parameter to control this behavior.\n",
            "  _warn_prf(average, modifier, msg_start, len(result))\n"
          ]
        }
      ]
    },
    {
      "cell_type": "markdown",
      "source": [
        "# **kesimpulan: dikarenakan data yang sedikit, membuat model dapat semua case yang ada (baik menggunakan c= 1 maupun c=50)**"
      ],
      "metadata": {
        "id": "cOjQBX95Q5ag"
      }
    },
    {
      "cell_type": "code",
      "source": [
        "from google.colab import drive\n",
        "drive.mount('/content/drive')"
      ],
      "metadata": {
        "id": "j1Fzge4G0Vhe"
      },
      "execution_count": null,
      "outputs": []
    }
  ]
}